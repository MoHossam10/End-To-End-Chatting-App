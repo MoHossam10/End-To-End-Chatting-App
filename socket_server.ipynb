{
 "cells": [
  {
   "cell_type": "code",
   "execution_count": 1,
   "metadata": {},
   "outputs": [
    {
     "name": "stdout",
     "output_type": "stream",
     "text": [
      "Server is listening on ('localhost', 12345)\n",
      "Waiting for a connection...\n"
     ]
    },
    {
     "ename": "",
     "evalue": "",
     "output_type": "error",
     "traceback": [
      "\u001b[1;31mThe Kernel crashed while executing code in the the current cell or a previous cell. Please review the code in the cell(s) to identify a possible cause of the failure. Click <a href='https://aka.ms/vscodeJupyterKernelCrash'>here</a> for more info. View Jupyter <a href='command:jupyter.viewOutput'>log</a> for further details."
     ]
    }
   ],
   "source": [
    "import socket\n",
    "import threading\n",
    "\n",
    "# Function to handle each client separately\n",
    "def handle_client(client_socket, client_address):\n",
    "    print(f\"Connection established with {client_address}\")\n",
    "\n",
    "    # Receive the client name\n",
    "    client_name = client_socket.recv(1024).decode()\n",
    "    print(f\"{client_name} joined the chat!\")\n",
    "\n",
    "    # Send a welcome message to the client\n",
    "    welcome_message = f\"Welcome, {client_name}!\"\n",
    "    client_socket.send(welcome_message.encode())\n",
    "\n",
    "    while True:\n",
    "        # Receive data from the client\n",
    "        data = client_socket.recv(1024).decode()\n",
    "        if not data:\n",
    "            break\n",
    "            \n",
    "        print(f\"{client_name}: {data}\")\n",
    "\n",
    "        # Broadcast the message to other clients\n",
    "        broadcast(f\"{client_name}: {data}\", client_socket)\n",
    "\n",
    "\n",
    "    # Close the connection with the client\n",
    "    client_socket.close()\n",
    "    print(f\"Connection closed with {client_address}\")\n",
    "\n",
    "# Function to broadcast a message to all connected clients\n",
    "def broadcast(message, sender_socket):\n",
    "    for client in clients:\n",
    "        # Send the message to all clients except the sender\n",
    "        if client != sender_socket:\n",
    "            try:\n",
    "                client.send(message.encode())\n",
    "            except:\n",
    "                # Remove the broken connection\n",
    "                clients.remove(client)\n",
    "\n",
    "# Define the server address (host, port)\n",
    "server_address = ('localhost', 12345)\n",
    "\n",
    "# Create a socket object\n",
    "server_socket = socket.socket(socket.AF_INET, socket.SOCK_STREAM)\n",
    "\n",
    "# Bind the socket to the server address\n",
    "server_socket.bind(server_address)\n",
    "\n",
    "# Listen for incoming connections (max 5 connections in the queue)\n",
    "server_socket.listen(5)\n",
    "\n",
    "print(f\"Server is listening on {server_address}\")\n",
    "\n",
    "# List to store all connected clients\n",
    "clients = []\n",
    "\n",
    "while True:\n",
    "    # Wait for a connection\n",
    "    print(\"Waiting for a connection...\")\n",
    "    client_socket, client_address = server_socket.accept()\n",
    "\n",
    "    # Add the new client to the list\n",
    "    clients.append(client_socket)\n",
    "    print(len(clients))\n",
    "\n",
    "    # Create a thread to handle the client separately\n",
    "    client_thread = threading.Thread(target=handle_client, args=(client_socket, client_address))\n",
    "    client_thread.start()\n"
   ]
  },
  {
   "cell_type": "code",
   "execution_count": null,
   "metadata": {},
   "outputs": [],
   "source": []
  }
 ],
 "metadata": {
  "kernelspec": {
   "display_name": "Python 3 (ipykernel)",
   "language": "python",
   "name": "python3"
  },
  "language_info": {
   "codemirror_mode": {
    "name": "ipython",
    "version": 3
   },
   "file_extension": ".py",
   "mimetype": "text/x-python",
   "name": "python",
   "nbconvert_exporter": "python",
   "pygments_lexer": "ipython3",
   "version": "3.9.13"
  }
 },
 "nbformat": 4,
 "nbformat_minor": 2
}
