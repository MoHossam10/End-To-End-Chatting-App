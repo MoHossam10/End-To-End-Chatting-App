{
 "cells": [
  {
   "cell_type": "code",
   "execution_count": 19,
   "id": "0880ab93",
   "metadata": {},
   "outputs": [
    {
     "name": "stdout",
     "output_type": "stream",
     "text": [
      "Shared keys are equal\n",
      "Shared Session KeyA: 30973480951546969900802929443534620064410208645343501587010585313842454817773888534787852386998051572687622339347791430295158035325194767074969413841741495959428838500807845161578378420078534445632721277117797072755108401071038111772970628107258635312690713090233779491194317769856832776041319421595195163\n",
      "Shared Session KeyB: 30973480951546969900802929443534620064410208645343501587010585313842454817773888534787852386998051572687622339347791430295158035325194767074969413841741495959428838500807845161578378420078534445632721277117797072755108401071038111772970628107258635312690713090233779491194317769856832776041319421595195163\n"
     ]
    }
   ],
   "source": [
    "import secrets #for random select and its more secure than random\n",
    "\n",
    "# Global Public Elements\n",
    "q = 144680345296684229304575179529938245101116505796297724604093354959605529698553710091437622563823349977233953598919282328617313556530076978689781274705883651331885037231666129678790666583467909689725051848798939477054509622827204488057693951443317602316042032987991969996748116892536606440843751763423931593  # A large prime number\n",
    "a = 3  # a < q and a is a primitive root of q\n",
    "\n",
    "def Key_Generation_by_Alice(q, a):\n",
    "    Xa = secrets.randbelow(q - 1) + 1  # select private Xa \"private key\"\n",
    "    Ya = pow(a, Xa, q)  # Calculate Ya \"Public key\"\n",
    "    return (q, a, Ya), Xa  # Public key, Private key\n",
    "\n",
    "def Key_Generation_by_Bob(q, a):\n",
    "    Xb = secrets.randbelow(q - 1) + 1  # select private Xb \"private key\"\n",
    "    Yb = pow(a, Xb, q)  # Calculate Yb \"Public key\"\n",
    "    return (q, a, Yb), Xb  # Public key, Private key\n",
    "\n",
    "def shared_session_key(public_key_Alice, private_key_Alice, public_key_Bob, private_key_Bob):\n",
    "    q, a, Ya = public_key_Alice\n",
    "    Xa = private_key_Alice\n",
    "    q, a, Yb = public_key_Bob\n",
    "    Xb = private_key_Bob\n",
    "    Ka = pow(Yb, Xa, q)\n",
    "    Kb = pow(Ya, Xb, q)\n",
    "    \n",
    "    # Ensure that the shared keys are the same\n",
    "    if Ka == Kb: \n",
    "        print(\"Shared keys are equal\")\n",
    "    \n",
    "    return Ka,Kb\n",
    "    \n",
    "    \n",
    "    \n",
    "    \n",
    "    \n",
    "    \n",
    "\n",
    "# Key Generation for Alice\n",
    "public_key_Alice, private_key_Alice = Key_Generation_by_Alice(q, a)\n",
    "\n",
    "# Key Generation for Bob (using the same q and a)\n",
    "public_key_Bob, private_key_Bob = Key_Generation_by_Bob(q, a)\n",
    "\n",
    "# Calculate shared session key\n",
    "ka,kb = shared_session_key(public_key_Alice, private_key_Alice, public_key_Bob, private_key_Bob)\n",
    "\n",
    "print(f\"Shared Session KeyA: {ka}\")\n",
    "print(f\"Shared Session KeyB: {kb}\")\n"
   ]
  }
 ],
 "metadata": {
  "kernelspec": {
   "display_name": "Python 3 (ipykernel)",
   "language": "python",
   "name": "python3"
  },
  "language_info": {
   "codemirror_mode": {
    "name": "ipython",
    "version": 3
   },
   "file_extension": ".py",
   "mimetype": "text/x-python",
   "name": "python",
   "nbconvert_exporter": "python",
   "pygments_lexer": "ipython3",
   "version": "3.9.11"
  }
 },
 "nbformat": 4,
 "nbformat_minor": 5
}
