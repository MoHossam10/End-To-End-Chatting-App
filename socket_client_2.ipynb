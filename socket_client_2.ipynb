{
 "cells": [
  {
   "cell_type": "code",
   "execution_count": 1,
   "metadata": {},
   "outputs": [
    {
     "name": "stdout",
     "output_type": "stream",
     "text": [
      "Connected to MySQL database\n",
      "SELECT Name FROM user WHERE ID = 1\n",
      "Name for ID 1: Khaled Mostafa Hussein\n"
     ]
    },
    {
     "ename": "AttributeError",
     "evalue": "'NoneType' object has no attribute 'encode'",
     "output_type": "error",
     "traceback": [
      "\u001b[1;31m---------------------------------------------------------------------------\u001b[0m",
      "\u001b[1;31mAttributeError\u001b[0m                            Traceback (most recent call last)",
      "\u001b[1;32m~\\AppData\\Local\\Temp\\ipykernel_39360\\3587962219.py\u001b[0m in \u001b[0;36m<module>\u001b[1;34m\u001b[0m\n\u001b[0;32m     36\u001b[0m \u001b[1;33m\u001b[0m\u001b[0m\n\u001b[0;32m     37\u001b[0m     \u001b[1;31m# Send the client name to the server\u001b[0m\u001b[1;33m\u001b[0m\u001b[1;33m\u001b[0m\u001b[0m\n\u001b[1;32m---> 38\u001b[1;33m     \u001b[0mclient_socket\u001b[0m\u001b[1;33m.\u001b[0m\u001b[0msend\u001b[0m\u001b[1;33m(\u001b[0m\u001b[0mclient_name\u001b[0m\u001b[1;33m.\u001b[0m\u001b[0mencode\u001b[0m\u001b[1;33m(\u001b[0m\u001b[1;33m)\u001b[0m\u001b[1;33m)\u001b[0m\u001b[1;33m\u001b[0m\u001b[1;33m\u001b[0m\u001b[0m\n\u001b[0m\u001b[0;32m     39\u001b[0m \u001b[1;33m\u001b[0m\u001b[0m\n\u001b[0;32m     40\u001b[0m \u001b[1;31m# Start a thread to receive messages from the server\u001b[0m\u001b[1;33m\u001b[0m\u001b[1;33m\u001b[0m\u001b[0m\n",
      "\u001b[1;31mAttributeError\u001b[0m: 'NoneType' object has no attribute 'encode'"
     ]
    }
   ],
   "source": [
    "import socket\n",
    "import threading\n",
    "from database import *\n",
    "\n",
    "# Function to handle receiving messages from the server\n",
    "def receive_messages():\n",
    "    while True:\n",
    "        try:\n",
    "            data = client_socket.recv(1024).decode()\n",
    "            print(f\"Server says: {data}\")\n",
    "        except:\n",
    "            # Handle disconnection\n",
    "            print(\"Connection to the server is closed.\")\n",
    "            break\n",
    "\n",
    "# Define the server address (host, port)\n",
    "server_address = ('localhost', 12345)\n",
    "\n",
    "# Create a socket object\n",
    "client_socket = socket.socket(socket.AF_INET, socket.SOCK_STREAM)\n",
    "\n",
    "# Connect to the server\n",
    "client_socket.connect(server_address)\n",
    "\n",
    "\n",
    "\n",
    "# connect the database\n",
    "connect_db()\n",
    "\n",
    "# Get user name from database if it exists\n",
    "user_exist = get_user_name_by_id(1, 'user')\n",
    "\n",
    "if user_exist:\n",
    "\n",
    "    client_name = Name\n",
    "\n",
    "    # Send the client name to the server\n",
    "    client_socket.send(client_name.encode())\n",
    "\n",
    "# Start a thread to receive messages from the server\n",
    "receive_thread = threading.Thread(target=receive_messages)\n",
    "receive_thread.start()\n",
    "\n",
    "# Main loop to send messages to the server\n",
    "while True:\n",
    "    message = input(\"Enter your message: \")\n",
    "    client_socket.send(message.encode())\n"
   ]
  },
  {
   "cell_type": "code",
   "execution_count": 2,
   "metadata": {},
   "outputs": [],
   "source": [
    "from database import *"
   ]
  },
  {
   "cell_type": "code",
   "execution_count": 6,
   "metadata": {},
   "outputs": [
    {
     "name": "stdout",
     "output_type": "stream",
     "text": [
      "Connected to MySQL database\n",
      "SELECT Name FROM user WHERE ID = 1\n",
      "Name for ID 1: Khaled Mostafa Hussein\n"
     ]
    }
   ],
   "source": [
    "# connect the database\n",
    "connect_db()\n",
    "\n",
    "# Get user name from database if it exists\n",
    "user_exist = get_user_name_by_id(1, 'user')\n",
    "\n",
    "if user_exist:\n",
    "\n",
    "    client_name = user_exist"
   ]
  },
  {
   "cell_type": "code",
   "execution_count": null,
   "metadata": {},
   "outputs": [],
   "source": []
  }
 ],
 "metadata": {
  "kernelspec": {
   "display_name": "Python 3 (ipykernel)",
   "language": "python",
   "name": "python3"
  },
  "language_info": {
   "codemirror_mode": {
    "name": "ipython",
    "version": 3
   },
   "file_extension": ".py",
   "mimetype": "text/x-python",
   "name": "python",
   "nbconvert_exporter": "python",
   "pygments_lexer": "ipython3",
   "version": "3.9.13"
  }
 },
 "nbformat": 4,
 "nbformat_minor": 2
}
