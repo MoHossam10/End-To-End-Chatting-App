{
 "cells": [
  {
   "cell_type": "code",
   "execution_count": 78,
   "id": "0ae056d6",
   "metadata": {},
   "outputs": [
    {
     "name": "stdout",
     "output_type": "stream",
     "text": [
      "[['a', 't', 't', 'a', 'c', 'k', 'p'], ['o', 's', 't', 'p', 'o', 'n', 'e'], ['d', 'u', 'n', 't', 'i', 'l', 't'], ['w', 'o', 'a', 'm', 'z', 'z', 'z']]\n",
      "[['a', 't', 't', 'a', 'c', 'k', 'p'], ['o', 's', 't', 'p', 'o', 'n', 'e'], ['d', 'u', 'n', 't', 'i', 'l', 't'], ['w', 'o', 'a', 'm', 'z', 'z', 'z']]\n",
      "Plaintext: attack postponed until two am.\n",
      "Key: [4, 3, 1, 2, 5, 6, 7]\n",
      "Ciphertext: ttnaaptmtsuoaodwcoizknlzpetz\n",
      "Decrypted Text: attackpostponeduntiltwoam\n"
     ]
    }
   ],
   "source": [
    "def encrypt(plaintext, key):\n",
    "    # Calculate the number of rows needed\n",
    "    rows = len(plaintext) // len(key)\n",
    "    if len(plaintext) % len(key) != 0:\n",
    "        rows += 1\n",
    "    \n",
    "\n",
    "    # Create an empty matrix to store the plaintext\n",
    "    matrix = [[' ' for _ in range(len(key))] for _ in range(rows)]\n",
    "    \n",
    "    # Fill in the matrix with the plaintext\n",
    "    index = 0\n",
    "    for i in range(rows):\n",
    "        for j in range(len(key)):\n",
    "            if index < len(plaintext)-1:\n",
    "                matrix[i][j] = plaintext[index]\n",
    "                index += 1\n",
    "            else:\n",
    "                matrix[i][j] = \"z\"\n",
    "                    \n",
    "    print(matrix)\n",
    "    # Perform encryption column by column\n",
    "    ciphertext = ''\n",
    "    for col in range(len(key)):\n",
    "        for row in matrix:\n",
    "            ciphertext += row[key.index(col + 1)]\n",
    "\n",
    "    return ciphertext\n",
    "\n",
    "def decrypt(ciphertext, key):\n",
    "    # Calculate the number of rows needed\n",
    "    rows = len(ciphertext) // len(key)\n",
    "    if len(ciphertext) % len(key) != 0:\n",
    "        rows += 1\n",
    "\n",
    "    # Create an empty matrix to store the ciphertext\n",
    "    matrix = [[' ' for _ in range(len(key))] for _ in range(rows)]\n",
    "\n",
    "    # Fill in the matrix with the ciphertext\n",
    "    index = 0\n",
    "    for col in range(len(key)):\n",
    "        for row in range(rows):\n",
    "            matrix[row][key.index(col + 1)] = ciphertext[index]\n",
    "            index += 1\n",
    "            \n",
    "    print(matrix)\n",
    "    \n",
    "    # Extract the plaintext from the matrix\n",
    "    decryptedtext = ''\n",
    "    for row in matrix:\n",
    "        for char in row:\n",
    "            if char != 'z':\n",
    "                decryptedtext += char\n",
    "\n",
    "    return decryptedtext\n",
    "\n",
    "# Example usage\n",
    "plaintext = \"attack postponed until two am.\"\n",
    "key = [4, 3, 1, 2, 5, 6, 7]\n",
    "\n",
    "ciphertext = encrypt(plaintext.replace(\" \", \"\"), key)\n",
    "decrypted_text = decrypt(ciphertext, key)\n",
    "print(\"Plaintext:\", plaintext)\n",
    "print(\"Key:\", key)\n",
    "print(\"Ciphertext:\", ciphertext)\n",
    "print(\"Decrypted Text:\", decrypted_text)"
   ]
  }
 ],
 "metadata": {
  "kernelspec": {
   "display_name": "Python 3 (ipykernel)",
   "language": "python",
   "name": "python3"
  },
  "language_info": {
   "codemirror_mode": {
    "name": "ipython",
    "version": 3
   },
   "file_extension": ".py",
   "mimetype": "text/x-python",
   "name": "python",
   "nbconvert_exporter": "python",
   "pygments_lexer": "ipython3",
   "version": "3.9.11"
  }
 },
 "nbformat": 4,
 "nbformat_minor": 5
}
