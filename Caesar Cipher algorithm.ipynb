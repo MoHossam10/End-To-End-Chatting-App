{
 "cells": [
  {
   "cell_type": "code",
   "execution_count": 12,
   "id": "56e4fc8d",
   "metadata": {},
   "outputs": [
    {
     "name": "stdout",
     "output_type": "stream",
     "text": [
      "Encrypted Text: CJ FYPZ frzb2 cj qy3y 10 n.k\n",
      "Decrypted Text: EL HARB htbd2 el sa3a 10 p.m\n"
     ]
    }
   ],
   "source": [
    "def caesar_cipher_encrypt(plaintext, shift):\n",
    "    encrypted_text = \"\"\n",
    "\n",
    "    for char in plaintext:\n",
    "        if char.isalpha():\n",
    "            # Determine whether the character is uppercase or lowercase\n",
    "            is_upper = char.isupper()\n",
    "\n",
    "            # Apply the Caesar Cipher shift\n",
    "            char_code = ord(char)\n",
    "            shifted_code = (char_code - ord('A' if is_upper else 'a') + shift) % 26\n",
    "            encrypted_char = chr(shifted_code + ord('A' if is_upper else 'a'))\n",
    "\n",
    "            encrypted_text += encrypted_char\n",
    "        else:\n",
    "            # Keep non-alphabetic characters unchanged\n",
    "            encrypted_text += char\n",
    "\n",
    "    return encrypted_text\n",
    "\n",
    "def caesar_cipher_decrypt(ciphertext, shift):\n",
    "    # Decryption is the same as encryption, but with a negative shift\n",
    "    return caesar_cipher_encrypt(ciphertext, -shift)\n",
    "\n",
    "# Example usage\n",
    "plaintext = \"EL HARB htbd2 el sa3a 10 p.m\"\n",
    "shift_amount = 50\n",
    "\n",
    "# Encrypt the plaintext\n",
    "encrypted_text = caesar_cipher_encrypt(plaintext, shift_amount)\n",
    "print(f\"Encrypted Text: {encrypted_text}\")\n",
    "\n",
    "# Decrypt the ciphertext\n",
    "decrypted_text = caesar_cipher_decrypt(encrypted_text, shift_amount)\n",
    "print(f\"Decrypted Text: {decrypted_text}\")\n"
   ]
  }
 ],
 "metadata": {
  "kernelspec": {
   "display_name": "Python 3 (ipykernel)",
   "language": "python",
   "name": "python3"
  },
  "language_info": {
   "codemirror_mode": {
    "name": "ipython",
    "version": 3
   },
   "file_extension": ".py",
   "mimetype": "text/x-python",
   "name": "python",
   "nbconvert_exporter": "python",
   "pygments_lexer": "ipython3",
   "version": "3.9.11"
  }
 },
 "nbformat": 4,
 "nbformat_minor": 5
}
